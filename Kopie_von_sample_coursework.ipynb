{
  "cells": [
    {
      "cell_type": "markdown",
      "metadata": {
        "id": "view-in-github",
        "colab_type": "text"
      },
      "source": [
        "<a href=\"https://colab.research.google.com/github/Artemiy2708/-/blob/main/Kopie_von_sample_coursework.ipynb\" target=\"_parent\"><img src=\"https://colab.research.google.com/assets/colab-badge.svg\" alt=\"Open In Colab\"/></a>"
      ]
    },
    {
      "cell_type": "code",
      "execution_count": null,
      "metadata": {
        "id": "-tQ3MiFa5Wph"
      },
      "outputs": [],
      "source": [
        "import pandas as pd\n",
        "import numpy as np\n",
        "import random\n",
        "import matplotlib.pyplot as plt\n",
        "import seaborn as sns\n",
        "import warnings\n",
        "warnings.filterwarnings('ignore')"
      ]
    },
    {
      "cell_type": "markdown",
      "metadata": {
        "id": "Id0Np3FS5aCd"
      },
      "source": [
        "# 0. Exchange Agent (Stock Market)"
      ]
    },
    {
      "cell_type": "code",
      "execution_count": null,
      "metadata": {
        "id": "iZSTU9047gLf"
      },
      "outputs": [],
      "source": [
        "class StockMarket:\n",
        "  def __init__(self):\n",
        "    orderBook = pd.DataFrame(list(zip([], [])), columns=['Assets', 'Price', 'Agent', 'AgentID'])\n",
        "    JesusCreation = [1000, 300.00, '', -1]\n",
        "    orderBook = orderBook.append(pd.Series(JesusCreation, index=orderBook.columns), ignore_index=True)\n",
        "    for _ in range(1000):\n",
        "      randomPrice, randomAssets = np.random.normal(300, 5000), np.ceil(np.random.normal(1000, 64))\n",
        "      list_ = [randomAssets, randomPrice, '', -1]\n",
        "      orderBook = orderBook.append(pd.Series(list_, index=orderBook.columns), ignore_index=True)\n",
        "    orderBook = orderBook[orderBook['Price'] > 0]\n",
        "    orderBook = orderBook.sort_values(by=['Price'], ascending=False)\n",
        "    orderBook = orderBook.reset_index()\n",
        "    orderBook = orderBook.drop(['index'], axis=1)\n",
        "    medianIndex = int(np.ceil(len(orderBook) / 2))\n",
        "    self.dfAsk, self.dfBid = orderBook.iloc[:medianIndex, :], orderBook.iloc[medianIndex:, :]\n",
        "  \n",
        "  def updBuyMarketOrder(self, quantity, agentName, agentid):\n",
        "    difference = 0\n",
        "    quantity = np.float64(quantity)\n",
        "    bestAskPrice, bestAskAssets = self.dfAsk.iloc[-1]['Price'], self.dfAsk.iloc[-1]['Assets']\n",
        "    if quantity < bestAskAssets:\n",
        "      res = np.float64(bestAskAssets - quantity)\n",
        "      self.dfAsk.iloc[-1]['Assets'] = self.dfAsk.iloc[-1]['Assets'] - quantity\n",
        "    else:\n",
        "      while quantity > 0:\n",
        "        quantity -= bestAskAssets\n",
        "        self.dfAsk.drop(index=self.dfAsk.index[-1], axis=0, inplace=True)\n",
        "        self.dfAsk = self.dfAsk.reset_index()\n",
        "        self.dfAsk = self.dfAsk.drop(['index'], axis=1)\n",
        "        bestAskAssets = self.dfAsk.iloc[-1]['Assets']\n",
        "    self.dfAsk = self.dfAsk.sort_values(by=['Price'], ascending=False)\n",
        "    self.dfAsk = self.dfAsk.reset_index()\n",
        "    self.dfAsk = self.dfAsk.drop(['index'], axis=1)\n",
        "\n",
        "  def updSellMarketOrder(self, quantity, agentName, agentid):\n",
        "    difference = 0\n",
        "    quantity = np.float64(quantity)\n",
        "    bestBidPrice, bestBidAssets = self.dfBid.iloc[0]['Price'], self.dfBid.iloc[0]['Assets']\n",
        "    if quantity < bestBidAssets:\n",
        "      res = np.float64(bestBidAssets - quantity)\n",
        "      self.dfBid.at[0, 'Assets'] = res\n",
        "    else:\n",
        "      while quantity > 0:\n",
        "        quantity -= bestBidAssets\n",
        "        self.dfBid.drop(index=self.dfBid.index[0], axis=0, inplace=True)\n",
        "        self.dfBid = self.dfBid.reset_index()\n",
        "        self.dfBid = self.dfBid.drop(['index'], axis=1)\n",
        "        bestBidAssets = self.dfBid.iloc[0]['Assets']\n",
        "    self.dfBid = self.dfBid.sort_values(by=['Price'], ascending=False)\n",
        "    self.dfBid = self.dfBid.reset_index()\n",
        "    self.dfBid = self.dfBid.drop(['index'], axis=1)\n",
        "    \n",
        "  def updBuyLimitOrder(self, price, quantity, agentName, agentid):\n",
        "    self.dfBid = self.dfBid.append(pd.Series([quantity, price, agentName, agentid], index=self.dfBid.columns), ignore_index=True)\n",
        "    self.dfBid = self.dfBid.sort_values(by=['Price'], ascending=False)\n",
        "    self.dfBid = self.dfBid.reset_index()\n",
        "    self.dfBid = self.dfBid.drop(['index'], axis=1)\n",
        "\n",
        "  def updSellLimitOrder(self, price, quantity, agentName, agentid):\n",
        "    self.dfAsk = self.dfAsk.append(pd.Series([quantity, price, agentName, agentid], index=self.dfAsk.columns), ignore_index=True)\n",
        "    self.dfAsk = self.dfAsk.sort_values(by=['Price'], ascending=False)\n",
        "    self.dfAsk = self.dfAsk.reset_index()\n",
        "    self.dfAsk = self.dfAsk.drop(['index'], axis=1)\n",
        "\n",
        "  def updCancelBuyLimitOrder(self, price, quantity, agentName, agentid):\n",
        "    to_cancel = self.dfBid[(self.dfBid['Agent'] == agentName) & (self.dfBid['AgentID'] == agentid)].index\n",
        "    self.dfBid.drop(to_cancel, inplace=True)\n",
        "    self.dfBid.dropna(inplace=True)\n",
        "    self.dfBid = self.dfBid.sort_values(by=['Price'], ascending=False)\n",
        "    self.dfBid = self.dfBid.reset_index()\n",
        "    self.dfBid = self.dfBid.drop(['index'], axis=1)\n",
        "\n",
        "  def updCancelSellLimitOrder(self, price, quantity, agentName, agentid):\n",
        "    to_cancel = self.dfAsk[(self.dfAsk['Agent'] == agentName) & (self.dfAsk['AgentID'] == agentid)].index\n",
        "    self.dfAsk.drop(to_cancel, inplace=True)\n",
        "    self.dfAsk.dropna(inplace=True)\n",
        "    self.dfAsk = self.dfAsk.sort_values(by=['Price'], ascending=False)\n",
        "    self.dfAsk = self.dfAsk.reset_index()\n",
        "    self.dfAsk = self.dfAsk.drop(['index'], axis=1)"
      ]
    },
    {
      "cell_type": "markdown",
      "metadata": {
        "id": "dikbE3iu5d-X"
      },
      "source": [
        "# 1. Agent-Based Model"
      ]
    },
    {
      "cell_type": "code",
      "execution_count": null,
      "metadata": {
        "id": "m2A3-OFDDBvb"
      },
      "outputs": [],
      "source": [
        "class ZeroIQCounter:\n",
        "  def __init__(self):\n",
        "    self.iq0_ID = 0\n",
        "\n",
        "class MMCounter:\n",
        "  def __init__(self):\n",
        "    self.MM_ID = 0"
      ]
    },
    {
      "cell_type": "markdown",
      "metadata": {
        "id": "5SR3ZvQT5hop"
      },
      "source": [
        "## 1.1 Zero Intelligence Agent"
      ]
    },
    {
      "cell_type": "code",
      "execution_count": null,
      "metadata": {
        "id": "STOsNprO5jft"
      },
      "outputs": [],
      "source": [
        "def lognormal_params(mean, std):\n",
        "  sigma = np.sqrt(np.log(std ** 2 + 1))\n",
        "  mu = np.log(mean + 0.000001) - sigma ** 2 / 2\n",
        "  return mu, sigma\n",
        "\n",
        "class ZeroIntelligenceAgent:\n",
        "  def __init__(self, counter, price_std, quantity_mean, quantity_std, orderbook):\n",
        "    self.Lambda = 1 / price_std\n",
        "    self.mu, self.sigma = lognormal_params(quantity_mean, quantity_std)\n",
        "    self.orderbook = orderbook\n",
        "    self.id = counter\n",
        "    self.agentName = '0IQ'\n",
        "    self.recentlyTraded = 0\n",
        "    self.ordertype = ''\n",
        "  \n",
        "  def determinePrice(self, orderType, bidRequest, askRequest):\n",
        "    value = float('NaN')\n",
        "    while np.isnan(value):\n",
        "      rs = random.random()\n",
        "      if rs < 0.35:\n",
        "        value = random.uniform(bidRequest, askRequest)\n",
        "      else:\n",
        "        delta = random.expovariate(self.Lambda)\n",
        "        if orderType == 'bid':\n",
        "          value = bidRequest - delta\n",
        "        if orderType == 'ask':\n",
        "          value = askRequest + delta\n",
        "      if orderType == 'bid':\n",
        "        if value > self.orderbook.dfAsk.iloc[-1]['Price']:\n",
        "          value = self.orderbook.dfAsk.iloc[-1]['Price'] * random.uniform(0.001, 0.699)\n",
        "      if orderType == 'ask':\n",
        "        if value < self.orderbook.dfBid.iloc[0]['Price']:\n",
        "          value = self.orderbook.dfBid.iloc[0]['Price'] * random.uniform(1.501, 1.999)\n",
        "    return value\n",
        "\n",
        "  def determineQuantity(self):\n",
        "    value = float('NaN')\n",
        "    while np.isnan(value):\n",
        "      value = np.ceil(random.lognormvariate(self.mu, self.sigma))\n",
        "    return value\n",
        "  \n",
        "  def trade(self, bidRequest, askRequest):\n",
        "    if not bidRequest or not askRequest:\n",
        "      return 0\n",
        "    rs0, rs1, orderType = random.random(), random.random(), ''\n",
        "    if rs0 > 0.5:\n",
        "      orderType = 'bid'\n",
        "      self.ordertype = 'bid'\n",
        "    else:\n",
        "      orderType = 'ask'\n",
        "      self.ordertype = 'ask'\n",
        "    if rs1 > 0.85:  # execute market order\n",
        "      quantity = self.determineQuantity()\n",
        "      if orderType == 'bid':\n",
        "        self.orderbook.updBuyMarketOrder(quantity, self.agentName, self.id)\n",
        "        self.recentlyTraded = quantity\n",
        "      if orderType == 'ask':\n",
        "        self.orderbook.updSellMarketOrder(quantity, self.agentName, self.id)\n",
        "        self.recentlyTraded = quantity\n",
        "    elif rs1 > 0.5: # execute limit order\n",
        "      price, quantity = self.determinePrice(orderType, bidRequest, askRequest), self.determineQuantity()\n",
        "      if orderType == 'bid':\n",
        "        self.orderbook.updBuyLimitOrder(price, quantity, self.agentName, self.id)\n",
        "      if orderType == 'ask':\n",
        "        self.orderbook.updSellLimitOrder(price, quantity, self.agentName, self.id)\n",
        "      else:\n",
        "        return 0\n",
        "    elif rs1 <= 0.5:  # order cancellation\n",
        "      self.orderbook.updCancelBuyLimitOrder(0, 0, self.agentName, self.id)\n",
        "      self.orderbook.updCancelSellLimitOrder(0, 0, self.agentName, self.id)\n",
        "    return 0"
      ]
    },
    {
      "cell_type": "markdown",
      "metadata": {
        "id": "J-5H6dzZ5jjq"
      },
      "source": [
        "## 1.2 Market Maker"
      ]
    },
    {
      "cell_type": "code",
      "execution_count": null,
      "metadata": {
        "id": "1tc8c0RN5lo_"
      },
      "outputs": [],
      "source": [
        "class MarketMaker:\n",
        "  def __init__(self, counter, cash, inventory, uniformLow, uniformHigh,orderbook, UL=2*10**4, LL=-2*10**4):\n",
        "    self.cash, self.inventory = cash, inventory\n",
        "    self.UL, self.LL = UL, LL\n",
        "    self.uniformLow, self.uniformHigh = uniformLow, uniformHigh\n",
        "    self.tradingVolume, self.state = [0.0, 0.0], 'normal'\n",
        "    self.orderbook = orderbook\n",
        "    self.agentName = 'MM'\n",
        "    self.id = counter\n",
        "    self.recentlyTraded = 0\n",
        "\n",
        "  def getBidVolume(self):\n",
        "    bid_volume = float('NaN')\n",
        "    while np.isnan(bid_volume):\n",
        "      bid_volume = np.ceil(max(0.0, (self.UL - 1 - self.inventory)) * np.random.uniform(self.uniformLow, self.uniformHigh))\n",
        "    return bid_volume\n",
        "\n",
        "  def getAskVolume(self):\n",
        "    ask_volume = float('NaN')\n",
        "    while np.isnan(ask_volume):\n",
        "      ask_volume = np.ceil(max(0.0, (self.inventory - self.LL - 1)) * np.random.uniform(self.uniformLow, self.uniformHigh))\n",
        "    return ask_volume\n",
        "\n",
        "  def trade(self, askRequest, bidRequest):\n",
        "    if self.inventory < self.LL or self.inventory > self.UL:\n",
        "      self.state = 'panic'\n",
        "    if self.LL <= self.inventory <= self.UL:\n",
        "      self.state = 'normal'\n",
        "    if self.state == 'normal':\n",
        "      bidVolume, askVolume = self.getBidVolume(), self.getAskVolume()\n",
        "      self.tradingVolume[0], self.tradingVolume[1] = bidVolume, askVolume\n",
        "      self.inventory = self.inventory + self.tradingVolume[0] - self.tradingVolume[1]\n",
        "      self.clearAllPreviousOrders()\n",
        "      self.orderbook.updBuyLimitOrder(bidRequest - ((askRequest - bidRequest) * (self.inventory / self.UL)), bidVolume, self.agentName, self.id)\n",
        "      self.orderbook.updSellLimitOrder(askRequest + ((askRequest - bidRequest) * (self.inventory / self.UL)), askVolume, self.agentName, self.id)\n",
        "      self.recentlyTraded = 0\n",
        "    elif self.state == 'panic':\n",
        "      if self.inventory < self.LL:\n",
        "        to_buy = abs(0 - self.inventory)\n",
        "        self.orderbook.updBuyMarketOrder(to_buy, self.agentName, self.id)\n",
        "        self.inventory = 0\n",
        "        self.state = 'normal'\n",
        "        self.recentlyTraded = to_buy\n",
        "      if self.inventory > self.UL:\n",
        "        to_sell = abs(0 - self.inventory)\n",
        "        self.orderbook.updCancelSellLimitOrder(to_sell, self.agentName, self.id)\n",
        "        self.state = 'normal'\n",
        "        self.recentlyTraded = to_sell\n",
        "      return 0\n",
        "\n",
        "  def clearAllPreviousOrders(self):\n",
        "    self.orderbook.updCancelBuyLimitOrder(0, 0, self.agentName, self.id)\n",
        "    self.orderbook.updCancelSellLimitOrder(0, 0, self.agentName, self.id)\n",
        "    self.tradingVolume = [0.0, 0.0]"
      ]
    },
    {
      "cell_type": "markdown",
      "metadata": {
        "id": "9YqWiWi65ltM"
      },
      "source": [
        "# 2. Simulator"
      ]
    },
    {
      "cell_type": "markdown",
      "metadata": {
        "id": "XKs8NMqs5nFB"
      },
      "source": [
        "## 2.1 Implementation"
      ]
    },
    {
      "cell_type": "code",
      "execution_count": null,
      "metadata": {
        "id": "WJq5xDFb5rmb"
      },
      "outputs": [],
      "source": [
        "class Simulator:\n",
        "  # '''\n",
        "  # --> We assume that an HFT market-maker will operate a long-short strategy.\n",
        "  # --> We make the simplifying assumption that decisions are made in discrete time and\n",
        "  #     that at each time step the HFT cancels all previous orders and issues a new set of orders to the exchange.\n",
        "  # --> We assume there is only one exchange, and the HFT is trading in only one market.\n",
        "  # --> We assume that the HFTs are not engaging in any other activity and therefore only gain\n",
        "  #     inventory if their Bids are hit or Buys are filled, and only lose inventory if their Offers are hit or their Sells are filled.\n",
        "  # ========================\n",
        "  # TO PLOT:\n",
        "  #   ■ price at each iteration;\n",
        "  #   ■ all the available volume;\n",
        "  #   ■ price volatility at each iteration;\n",
        "  #   ■ investigate the panic situations\n",
        "  # ========================\n",
        "  # time axis: [[0], [1], [2], [3], [4], ..., [n - 1], [n]]\n",
        "  # [0]:\n",
        "  #   all the traders make their decisions and, if possible, edit the order book with their decisions\n",
        "  # [1]:\n",
        "  #   all the traders make their decisions and, if possible, edit the order book with their decisions\n",
        "  # ...\n",
        "  # and so on till [n].\n",
        "  # '''\n",
        "  def __init__(self, N, team0iq, teamMM,orderbook, state=0, delay=0):\n",
        "    # state: 0 - a normal simulator, 1 - information shock, 2 - transcation cost, 3 - rapid change in price\n",
        "    self.mu = ORDERBOOK.dfAsk.iloc[-1]['Price']\n",
        "    self.pricesAtEachIteration = []\n",
        "    self.bidPricesAtEachIteration = []\n",
        "    self.volumesAtEachIteration = []\n",
        "    self.priceVolatilityatEachIteration = []\n",
        "    self.isPanic = []\n",
        "    self.proceedingTime = N\n",
        "    self.team0iq = team0iq\n",
        "    self.teamMM = teamMM\n",
        "    self.orderbook = orderbook\n",
        "    self.delay = delay\n",
        "    self.state = state\n",
        "    for k in range(len(self.teamMM)):\n",
        "      self.isPanic.append([])\n",
        "      for h in range(N):\n",
        "        self.isPanic[k].append(False)\n",
        "    \n",
        "  def simulate(self): # launches if no shocks are given\n",
        "    for i in range(self.proceedingTime):\n",
        "      if i % 5 == 0:\n",
        "        self.state = int(input())\n",
        "        self.delay = int(input())\n",
        "      if self.state == 0:\n",
        "        volume = 0\n",
        "        self.pricesAtEachIteration.append(self.orderbook.dfAsk.iloc[-1]['Price'])\n",
        "        self.priceVolatilityatEachIteration.append(np.sqrt(1 / (len(self.orderbook.dfAsk) +\n",
        "                                                                len(self.orderbook.dfBid)) *\n",
        "                                                            ((self.orderbook.dfAsk.iloc[-1]['Price'] - self.mu)**2 +\n",
        "                                                            (self.orderbook.dfBid.iloc[0]['Price'] - self.mu)**2)))\n",
        "        for j in range(0, len(self.team0iq)):\n",
        "          bid_, ask_ = np.random.normal(0.75 * self.mu, 32), np.random.normal(1.25 * self.mu, 32)\n",
        "          bid = min(bid_, ask_)\n",
        "          ask = max(bid_, ask_)\n",
        "          self.team0iq[j].trade(bid, ask)\n",
        "          volume += self.team0iq[j].recentlyTraded\n",
        "        for j in range(0, len(self.teamMM)):\n",
        "          if self.teamMM[j].inventory < self.teamMM[j].LL or self.teamMM[j].inventory > self.teamMM[j].UL:\n",
        "            self.isPanic[j][i] = True\n",
        "          elif self.teamMM[j].LL <= self.teamMM[j].inventory <= self.teamMM[j].UL:\n",
        "            self.isPanic[j][i] = False\n",
        "          self.teamMM[j].trade(self.orderbook.dfAsk.iloc[-1]['Price'], self.orderbook.dfBid.iloc[0]['Price'])\n",
        "          volume += self.teamMM[j].recentlyTraded\n",
        "        self.volumesAtEachIteration.append(volume)\n",
        "        self.bidPricesAtEachIteration.append(self.orderbook.dfBid.iloc[0]['Price'])\n",
        "      elif self.state == 1: # launches if there is an information shock (time delay)\n",
        "        volume = 0\n",
        "        self.pricesAtEachIteration.append(self.orderbook.dfAsk.iloc[-1]['Price'])\n",
        "        self.priceVolatilityatEachIteration.append(np.sqrt(1 / (len(self.orderbook.dfAsk) +\n",
        "                                                                len(self.orderbook.dfBid)) *\n",
        "                                                            ((self.orderbook.dfAsk.iloc[-1]['Price'] - self.mu)**2 +\n",
        "                                                            (self.orderbook.dfBid.iloc[0]['Price'] - self.mu)**2)))\n",
        "        for j in range(0, len(self.team0iq)):\n",
        "          bid_, ask_ = np.random.normal(0.75 * self.mu, 32), np.random.normal(1.25 * self.mu, 32)\n",
        "          bid = min(bid_, ask_)\n",
        "          ask = max(bid_, ask_)\n",
        "          self.team0iq[j].trade(bid, ask)\n",
        "          volume += self.team0iq[j].recentlyTraded\n",
        "        for j in range(0, len(self.teamMM)):\n",
        "          if self.teamMM[j].inventory < self.teamMM[j].LL or self.teamMM[j].inventory > self.teamMM[j].UL:\n",
        "            self.isPanic[j][i] = True\n",
        "          elif self.teamMM[j].LL <= self.teamMM[j].inventory <= self.teamMM[j].UL:\n",
        "            self.isPanic[j][i] = False\n",
        "          self.teamMM[j].trade(self.pricesAtEachIteration[-self.delay], self.bidPricesAtEachIteration[-self.delay])\n",
        "          volume += self.teamMM[j].recentlyTraded\n",
        "        self.volumesAtEachIteration.append(volume)\n",
        "        self.bidPricesAtEachIteration.append(self.orderbook.dfBid.iloc[0]['Price'])\n",
        "      elif self.state == 2:\n",
        "        orderBook = pd.DataFrame(list(zip([], [])), columns=['Assets', 'Price', 'Agent', 'AgentID'])\n",
        "        scenario = random.randrange(1, 3)\n",
        "        if scenario == 1: # rapid growth of prices\n",
        "          JesusCreation = [1000, 1000, '', -1]\n",
        "          orderBook = orderBook.append(pd.Series(JesusCreation, index=orderBook.columns), ignore_index=True)\n",
        "          for _ in range(1000):\n",
        "            randomPrice, randomAssets = np.random.normal(1000, 5000), np.ceil(np.random.normal(1000, 64))\n",
        "            list_ = [randomAssets, randomPrice, '', -1]\n",
        "            orderBook = orderBook.append(pd.Series(list_, index=orderBook.columns), ignore_index=True)\n",
        "          orderBook = orderBook[orderBook['Price'] > 0]\n",
        "          orderBook = orderBook.sort_values(by=['Price'], ascending=False)\n",
        "          orderBook = orderBook.reset_index()\n",
        "          orderBook = orderBook.drop(['index'], axis=1)\n",
        "          medianIndex = int(np.ceil(len(orderBook) / 2))\n",
        "          self.orderbook.dfAsk, self.orderbook.dfBid = orderBook.iloc[:medianIndex, :], orderBook.iloc[medianIndex:, :]\n",
        "        else: # rapid decrease in prices\n",
        "          JesusCreation = [1000, 42, '', -1]\n",
        "          orderBook = orderBook.append(pd.Series(JesusCreation, index=orderBook.columns), ignore_index=True)\n",
        "          for _ in range(1000):\n",
        "            randomPrice, randomAssets = np.random.normal(42, 5000), np.ceil(np.random.normal(1000, 64))\n",
        "            list_ = [randomAssets, randomPrice, '', -1]\n",
        "            orderBook = orderBook.append(pd.Series(list_, index=orderBook.columns), ignore_index=True)\n",
        "          orderBook = orderBook[orderBook['Price'] > 0]\n",
        "          orderBook = orderBook.sort_values(by=['Price'], ascending=False)\n",
        "          orderBook = orderBook.reset_index()\n",
        "          orderBook = orderBook.drop(['index'], axis=1)\n",
        "          medianIndex = int(np.ceil(len(orderBook) / 2))\n",
        "          self.orderbook.dfAsk, self.orderbook.dfBid = orderBook.iloc[:medianIndex, :], orderBook.iloc[medianIndex:, :]\n",
        "        for j in range(0, len(self.team0iq)):\n",
        "          bid_, ask_ = np.random.normal(0.75 * self.mu, 32), np.random.normal(1.25 * self.mu, 32)\n",
        "          bid = min(bid_, ask_)\n",
        "          ask = max(bid_, ask_)\n",
        "          self.team0iq[j].trade(bid, ask)\n",
        "          volume += self.team0iq[j].recentlyTraded\n",
        "        for j in range(0, len(self.teamMM)):\n",
        "          if self.teamMM[j].inventory < self.teamMM[j].LL or self.teamMM[j].inventory > self.teamMM[j].UL:\n",
        "            self.isPanic[j][i] = True\n",
        "          elif self.teamMM[j].LL <= self.teamMM[j].inventory <= self.teamMM[j].UL:\n",
        "            self.isPanic[j][i] = False\n",
        "          self.teamMM[j].trade(self.orderbook.dfAsk.iloc[-1]['Price'], self.orderbook.dfBid.iloc[0]['Price'])\n",
        "          volume += self.teamMM[j].recentlyTraded\n",
        "        self.volumesAtEachIteration.append(volume)\n",
        "        self.bidPricesAtEachIteration.append(self.orderbook.dfBid.iloc[0]['Price'])\n",
        "  \n",
        "  def plot_price(self):\n",
        "     plt.plot(np.arange(self.proceedingTime), self.pricesAtEachIteration)\n",
        "     plt.legend()\n",
        "     plt.show()\n",
        "  def plot_volume(self):\n",
        "     plt.plot(np.arange(self.proceedingTime), self.volumesAtEachIteration)\n",
        "     plt.legend()\n",
        "     plt.show()\n",
        "  def plot_volatility(self):\n",
        "     plt.plot(np.arange(self.proceedingTime), self.priceVolatilityatEachIteration)\n",
        "     plt.legend()\n",
        "     plt.show()\n",
        "  def plot_bid_ask(self):\n",
        "     plt.plot(np.arange(self.proceedingTime),self.pricesAtEachIteration)\n",
        "     plt.plot(np.arange(self.proceedingTime),self.bidPricesAtEachIteration)\n",
        "     plt.legend()\n",
        "     plt.show()\n",
        "\n",
        "  "
      ]
    },
    {
      "cell_type": "markdown",
      "metadata": {
        "id": "G9FpKCDN5pPt"
      },
      "source": [
        "## 2.2 Execution"
      ]
    },
    {
      "cell_type": "code",
      "execution_count": null,
      "metadata": {
        "id": "H6dC_Yg9n9yl"
      },
      "outputs": [],
      "source": [
        "ORDERBOOK = StockMarket()"
      ]
    },
    {
      "cell_type": "code",
      "execution_count": null,
      "metadata": {
        "id": "OmlPAQpS5rPa",
        "colab": {
          "base_uri": "https://localhost:8080/"
        },
        "outputId": "6b680069-d5f3-494b-8b29-f00986e2cd0d"
      },
      "outputs": [
        {
          "name": "stdout",
          "output_type": "stream",
          "text": [
            "0\n",
            "0\n",
            "0\n",
            "0\n"
          ]
        }
      ],
      "source": [
        "iq0_id, MM_id = ZeroIQCounter(), MMCounter()\n",
        "team0iq = []\n",
        "teamMM = []\n",
        "MM_params = [[3000, 0.9, 1.0], [2000, 0.8, 1.0], [2000, 0.8, 1.0]]\n",
        "for i in range(0, 10):\n",
        "  team0iq.append(ZeroIntelligenceAgent(iq0_id.iq0_ID, 4.0, 1.0, 1.0,ORDERBOOK))\n",
        "  iq0_id.iq0_ID += 1\n",
        "for i in range(0, 3):\n",
        "  teamMM.append(MarketMaker(MM_id.MM_ID, 10**12, MM_params[i][0], MM_params[i][1], MM_params[i][2],ORDERBOOK))\n",
        "  MM_id.MM_ID += 1\n",
        "simulator0 = Simulator(10, team0iq, teamMM,ORDERBOOK)\n",
        "simulator0.simulate()"
      ]
    },
    {
      "cell_type": "code",
      "source": [
        "simulator0.pricesAtEachIteration"
      ],
      "metadata": {
        "colab": {
          "base_uri": "https://localhost:8080/"
        },
        "id": "d1csSCCPKEsu",
        "outputId": "b0f28406-c8d3-4a17-a6d2-a5aceaa00a1e"
      },
      "execution_count": null,
      "outputs": [
        {
          "output_type": "execute_result",
          "data": {
            "text/plain": [
              "[3448.192808288643,\n",
              " 3448.168248822513,\n",
              " 3448.1680319887228,\n",
              " 3448.1488245103906,\n",
              " 3448.1487478937624,\n",
              " 3448.1464385700015,\n",
              " 3448.143051624418,\n",
              " 3448.140898501514,\n",
              " 3448.135766274929,\n",
              " 3448.135617556233]"
            ]
          },
          "metadata": {},
          "execution_count": 9
        }
      ]
    },
    {
      "cell_type": "code",
      "source": [
        "simulator0.priceVolatilityatEachIteration"
      ],
      "metadata": {
        "colab": {
          "base_uri": "https://localhost:8080/"
        },
        "id": "RAo02Wc4KT1l",
        "outputId": "0bc5771d-0cf2-45b8-87db-64784c4aa14e"
      },
      "execution_count": null,
      "outputs": [
        {
          "output_type": "execute_result",
          "data": {
            "text/plain": [
              "[0.005091350623365664,\n",
              " 0.004126306777906215,\n",
              " 0.004119679509338016,\n",
              " 0.0036808059306474485,\n",
              " 0.003659222074802571,\n",
              " 0.0036349618785017543,\n",
              " 0.00359557330599136,\n",
              " 0.0035654821121180063,\n",
              " 0.003550976970030921,\n",
              " 0.0035507724465755827]"
            ]
          },
          "metadata": {},
          "execution_count": 10
        }
      ]
    },
    {
      "cell_type": "markdown",
      "source": [
        "### 2.3 Illustration of the ABM Stock Market Simulations Without Shocks"
      ],
      "metadata": {
        "id": "Xc3PL8wxMTT7"
      }
    },
    {
      "cell_type": "code",
      "source": [
        "simulator0.plot_price()"
      ],
      "metadata": {
        "id": "5V2LeIQIMaA6",
        "colab": {
          "base_uri": "https://localhost:8080/",
          "height": 293
        },
        "outputId": "114ce299-7535-4c74-86f3-85254a006d98"
      },
      "execution_count": null,
      "outputs": [
        {
          "output_type": "stream",
          "name": "stderr",
          "text": [
            "No handles with labels found to put in legend.\n"
          ]
        },
        {
          "output_type": "display_data",
          "data": {
            "text/plain": [
              "<Figure size 432x288 with 1 Axes>"
            ],
            "image/png": "[encoded data removed]"
          },
          "metadata": {
            "needs_background": "light"
          }
        }
      ]
    },
    {
      "cell_type": "code",
      "source": [
        "simulator0.plot_volatility()"
      ],
      "metadata": {
        "colab": {
          "base_uri": "https://localhost:8080/",
          "height": 282
        },
        "id": "-tcmBJ_7PL2O",
        "outputId": "f298dae1-9e46-4146-97ea-cb03a51dd7f1"
      },
      "execution_count": null,
      "outputs": [
        {
          "output_type": "stream",
          "name": "stderr",
          "text": [
            "No handles with labels found to put in legend.\n"
          ]
        },
        {
          "output_type": "display_data",
          "data": {
            "text/plain": [
              "<Figure size 432x288 with 1 Axes>"
            ],
            "image/png": "[encoded data removed]"
          },
          "metadata": {
            "needs_background": "light"
          }
        }
      ]
    },
    {
      "cell_type": "code",
      "source": [
        "simulator0.plot_volume()"
      ],
      "metadata": {
        "colab": {
          "base_uri": "https://localhost:8080/",
          "height": 282
        },
        "id": "DM1ZYWYqPN-r",
        "outputId": "216117e7-aef9-421d-a756-2de2a52b202e"
      },
      "execution_count": null,
      "outputs": [
        {
          "output_type": "stream",
          "name": "stderr",
          "text": [
            "No handles with labels found to put in legend.\n"
          ]
        },
        {
          "output_type": "display_data",
          "data": {
            "text/plain": [
              "<Figure size 432x288 with 1 Axes>"
            ],
            "image/png": "[encoded data removed]"
          },
          "metadata": {
            "needs_background": "light"
          }
        }
      ]
    },
    {
      "cell_type": "code",
      "source": [
        "simulator0.plot_bid_ask()"
      ],
      "metadata": {
        "colab": {
          "base_uri": "https://localhost:8080/",
          "height": 293
        },
        "id": "E8nq7wwZQIKl",
        "outputId": "d49931a5-1c41-4e40-b64e-a28a99105a03"
      },
      "execution_count": null,
      "outputs": [
        {
          "output_type": "stream",
          "name": "stderr",
          "text": [
            "No handles with labels found to put in legend.\n"
          ]
        },
        {
          "output_type": "display_data",
          "data": {
            "text/plain": [
              "<Figure size 432x288 with 1 Axes>"
            ],
            "image/png": "[encoded data removed]"
          },
          "metadata": {
            "needs_background": "light"
          }
        }
      ]
    },
    {
      "cell_type": "markdown",
      "source": [
        "# 3. Shocks"
      ],
      "metadata": {
        "id": "nzNivclDfwMw"
      }
    },
    {
      "cell_type": "markdown",
      "source": [
        "## 3.1 Information Shock"
      ],
      "metadata": {
        "id": "n4NQ0n7xfxXT"
      }
    },
    {
      "cell_type": "code",
      "source": [
        "ORDERBOOK = StockMarket()"
      ],
      "metadata": {
        "id": "IUGk9CcUoloz"
      },
      "execution_count": null,
      "outputs": []
    },
    {
      "cell_type": "code",
      "source": [
        "iq0_id, MM_id = ZeroIQCounter(), MMCounter()\n",
        "team0iq = []\n",
        "teamMM = []\n",
        "MM_params = [[3000, 0.9, 1.0], [2000, 0.8, 1.0], [2000, 0.8, 1.0]]\n",
        "for i in range(10):\n",
        "  team0iq.append(ZeroIntelligenceAgent(iq0_id.iq0_ID, 4.0, 1.0, 1.0,ORDERBOOK))\n",
        "  iq0_id.iq0_ID += 1\n",
        "for i in range(len(MM_params)):\n",
        "  teamMM.append(MarketMaker(MM_id.MM_ID, 10**12, MM_params[i][0], MM_params[i][1], MM_params[i][2],ORDERBOOK))\n",
        "  MM_id.MM_ID += 1\n",
        "simulator1 = Simulator(20, team0iq, teamMM,ORDERBOOK)\n",
        "simulator1.simulate()"
      ],
      "metadata": {
        "id": "eLDa1R5Afy4u",
        "colab": {
          "base_uri": "https://localhost:8080/"
        },
        "outputId": "7debe5b6-41ba-42f8-d045-323dfa097abc"
      },
      "execution_count": null,
      "outputs": [
        {
          "name": "stdout",
          "output_type": "stream",
          "text": [
            "0\n",
            "0\n",
            "1\n",
            "3\n",
            "1\n",
            "5\n",
            "1\n",
            "3\n"
          ]
        }
      ]
    },
    {
      "cell_type": "code",
      "source": [
        "display(simulator1.orderbook.dfAsk)\n",
        "display(simulator1.orderbook.dfBid)"
      ],
      "metadata": {
        "id": "E5o7oakGgNjM",
        "colab": {
          "base_uri": "https://localhost:8080/",
          "height": 830
        },
        "outputId": "705296dd-02aa-4982-a4b0-63d0b43ca57f"
      },
      "execution_count": null,
      "outputs": [
        {
          "output_type": "display_data",
          "data": {
            "text/plain": [
              "      Assets         Price Agent AgentID\n",
              "0     1102.0  15764.470550            -1\n",
              "1      942.0  14441.307285            -1\n",
              "2      970.0  13968.160239            -1\n",
              "3      873.0  13965.028880            -1\n",
              "4      963.0  13297.380568            -1\n",
              "..       ...           ...   ...     ...\n",
              "258   1016.0   3790.485444            -1\n",
              "259    995.0   3764.761111            -1\n",
              "260  16737.0   3757.417448    MM       2\n",
              "261  17082.0   3757.139242    MM       1\n",
              "262  19779.0   3757.127111    MM       0\n",
              "\n",
              "[263 rows x 4 columns]"
            ],
            "text/html": [
              "\n",
              "  <div id=\"df-a55a77c0-8b80-4e3d-a6e6-7a87f485430d\">\n",
              "    <div class=\"colab-df-container\">\n",
              "      <div>\n",
              "<style scoped>\n",
              "    .dataframe tbody tr th:only-of-type {\n",
              "        vertical-align: middle;\n",
              "    }\n",
              "\n",
              "    .dataframe tbody tr th {\n",
              "        vertical-align: top;\n",
              "    }\n",
              "\n",
              "    .dataframe thead th {\n",
              "        text-align: right;\n",
              "    }\n",
              "</style>\n",
              "<table border=\"1\" class=\"dataframe\">\n",
              "  <thead>\n",
              "    <tr style=\"text-align: right;\">\n",
              "      <th></th>\n",
              "      <th>Assets</th>\n",
              "      <th>Price</th>\n",
              "      <th>Agent</th>\n",
              "      <th>AgentID</th>\n",
              "    </tr>\n",
              "  </thead>\n",
              "  <tbody>\n",
              "    <tr>\n",
              "      <th>0</th>\n",
              "      <td>1102.0</td>\n",
              "      <td>15764.470550</td>\n",
              "      <td></td>\n",
              "      <td>-1</td>\n",
              "    </tr>\n",
              "    <tr>\n",
              "      <th>1</th>\n",
              "      <td>942.0</td>\n",
              "      <td>14441.307285</td>\n",
              "      <td></td>\n",
              "      <td>-1</td>\n",
              "    </tr>\n",
              "    <tr>\n",
              "      <th>2</th>\n",
              "      <td>970.0</td>\n",
              "      <td>13968.160239</td>\n",
              "      <td></td>\n",
              "      <td>-1</td>\n",
              "    </tr>\n",
              "    <tr>\n",
              "      <th>3</th>\n",
              "      <td>873.0</td>\n",
              "      <td>13965.028880</td>\n",
              "      <td></td>\n",
              "      <td>-1</td>\n",
              "    </tr>\n",
              "    <tr>\n",
              "      <th>4</th>\n",
              "      <td>963.0</td>\n",
              "      <td>13297.380568</td>\n",
              "      <td></td>\n",
              "      <td>-1</td>\n",
              "    </tr>\n",
              "    <tr>\n",
              "      <th>...</th>\n",
              "      <td>...</td>\n",
              "      <td>...</td>\n",
              "      <td>...</td>\n",
              "      <td>...</td>\n",
              "    </tr>\n",
              "    <tr>\n",
              "      <th>258</th>\n",
              "      <td>1016.0</td>\n",
              "      <td>3790.485444</td>\n",
              "      <td></td>\n",
              "      <td>-1</td>\n",
              "    </tr>\n",
              "    <tr>\n",
              "      <th>259</th>\n",
              "      <td>995.0</td>\n",
              "      <td>3764.761111</td>\n",
              "      <td></td>\n",
              "      <td>-1</td>\n",
              "    </tr>\n",
              "    <tr>\n",
              "      <th>260</th>\n",
              "      <td>16737.0</td>\n",
              "      <td>3757.417448</td>\n",
              "      <td>MM</td>\n",
              "      <td>2</td>\n",
              "    </tr>\n",
              "    <tr>\n",
              "      <th>261</th>\n",
              "      <td>17082.0</td>\n",
              "      <td>3757.139242</td>\n",
              "      <td>MM</td>\n",
              "      <td>1</td>\n",
              "    </tr>\n",
              "    <tr>\n",
              "      <th>262</th>\n",
              "      <td>19779.0</td>\n",
              "      <td>3757.127111</td>\n",
              "      <td>MM</td>\n",
              "      <td>0</td>\n",
              "    </tr>\n",
              "  </tbody>\n",
              "</table>\n",
              "<p>263 rows × 4 columns</p>\n",
              "</div>\n",
              "      <button class=\"colab-df-convert\" onclick=\"convertToInteractive('df-a55a77c0-8b80-4e3d-a6e6-7a87f485430d')\"\n",
              "              title=\"Convert this dataframe to an interactive table.\"\n",
              "              style=\"display:none;\">\n",
              "        \n",
              "  <svg xmlns=\"http://www.w3.org/2000/svg\" height=\"24px\"viewBox=\"0 0 24 24\"\n",
              "       width=\"24px\">\n",
              "    <path d=\"M0 0h24v24H0V0z\" fill=\"none\"/>\n",
              "    <path d=\"M18.56 5.44l.94 2.06.94-2.06 2.06-.94-2.06-.94-.94-2.06-.94 2.06-2.06.94zm-11 1L8.5 8.5l.94-2.06 2.06-.94-2.06-.94L8.5 2.5l-.94 2.06-2.06.94zm10 10l.94 2.06.94-2.06 2.06-.94-2.06-.94-.94-2.06-.94 2.06-2.06.94z\"/><path d=\"M17.41 7.96l-1.37-1.37c-.4-.4-.92-.59-1.43-.59-.52 0-1.04.2-1.43.59L10.3 9.45l-7.72 7.72c-.78.78-.78 2.05 0 2.83L4 21.41c.39.39.9.59 1.41.59.51 0 1.02-.2 1.41-.59l7.78-7.78 2.81-2.81c.8-.78.8-2.07 0-2.86zM5.41 20L4 18.59l7.72-7.72 1.47 1.35L5.41 20z\"/>\n",
              "  </svg>\n",
              "      </button>\n",
              "      \n",
              "  <style>\n",
              "    .colab-df-container {\n",
              "      display:flex;\n",
              "      flex-wrap:wrap;\n",
              "      gap: 12px;\n",
              "    }\n",
              "\n",
              "    .colab-df-convert {\n",
              "      background-color: #E8F0FE;\n",
              "      border: none;\n",
              "      border-radius: 50%;\n",
              "      cursor: pointer;\n",
              "      display: none;\n",
              "      fill: #1967D2;\n",
              "      height: 32px;\n",
              "      padding: 0 0 0 0;\n",
              "      width: 32px;\n",
              "    }\n",
              "\n",
              "    .colab-df-convert:hover {\n",
              "      background-color: #E2EBFA;\n",
              "      box-shadow: 0px 1px 2px rgba(60, 64, 67, 0.3), 0px 1px 3px 1px rgba(60, 64, 67, 0.15);\n",
              "      fill: #174EA6;\n",
              "    }\n",
              "\n",
              "    [theme=dark] .colab-df-convert {\n",
              "      background-color: #3B4455;\n",
              "      fill: #D2E3FC;\n",
              "    }\n",
              "\n",
              "    [theme=dark] .colab-df-convert:hover {\n",
              "      background-color: #434B5C;\n",
              "      box-shadow: 0px 1px 3px 1px rgba(0, 0, 0, 0.15);\n",
              "      filter: drop-shadow(0px 1px 2px rgba(0, 0, 0, 0.3));\n",
              "      fill: #FFFFFF;\n",
              "    }\n",
              "  </style>\n",
              "\n",
              "      <script>\n",
              "        const buttonEl =\n",
              "          document.querySelector('#df-a55a77c0-8b80-4e3d-a6e6-7a87f485430d button.colab-df-convert');\n",
              "        buttonEl.style.display =\n",
              "          google.colab.kernel.accessAllowed ? 'block' : 'none';\n",
              "\n",
              "        async function convertToInteractive(key) {\n",
              "          const element = document.querySelector('#df-a55a77c0-8b80-4e3d-a6e6-7a87f485430d');\n",
              "          const dataTable =\n",
              "            await google.colab.kernel.invokeFunction('convertToInteractive',\n",
              "                                                     [key], {});\n",
              "          if (!dataTable) return;\n",
              "\n",
              "          const docLinkHtml = 'Like what you see? Visit the ' +\n",
              "            '<a target=\"_blank\" href=https://colab.research.google.com/notebooks/data_table.ipynb>data table notebook</a>'\n",
              "            + ' to learn more about interactive tables.';\n",
              "          element.innerHTML = '';\n",
              "          dataTable['output_type'] = 'display_data';\n",
              "          await google.colab.output.renderOutput(dataTable, element);\n",
              "          const docLink = document.createElement('div');\n",
              "          docLink.innerHTML = docLinkHtml;\n",
              "          element.appendChild(docLink);\n",
              "        }\n",
              "      </script>\n",
              "    </div>\n",
              "  </div>\n",
              "  "
            ]
          },
          "metadata": {}
        },
        {
          "output_type": "display_data",
          "data": {
            "text/plain": [
              "      Assets        Price Agent AgentID\n",
              "0    19143.0  3755.455002    MM       0\n",
              "1    16639.0  3755.442871    MM       1\n",
              "2    19642.0  3755.164665    MM       2\n",
              "3      924.0  3747.821002            -1\n",
              "4      956.0  3735.331042            -1\n",
              "..       ...          ...   ...     ...\n",
              "261   1081.0    52.156526            -1\n",
              "262    962.0    50.921641            -1\n",
              "263    928.0    38.288277            -1\n",
              "264    980.0    22.114794            -1\n",
              "265   1088.0    17.049535            -1\n",
              "\n",
              "[266 rows x 4 columns]"
            ],
            "text/html": [
              "\n",
              "  <div id=\"df-dddb3e5b-d16f-44c7-b380-fc0264dab8a7\">\n",
              "    <div class=\"colab-df-container\">\n",
              "      <div>\n",
              "<style scoped>\n",
              "    .dataframe tbody tr th:only-of-type {\n",
              "        vertical-align: middle;\n",
              "    }\n",
              "\n",
              "    .dataframe tbody tr th {\n",
              "        vertical-align: top;\n",
              "    }\n",
              "\n",
              "    .dataframe thead th {\n",
              "        text-align: right;\n",
              "    }\n",
              "</style>\n",
              "<table border=\"1\" class=\"dataframe\">\n",
              "  <thead>\n",
              "    <tr style=\"text-align: right;\">\n",
              "      <th></th>\n",
              "      <th>Assets</th>\n",
              "      <th>Price</th>\n",
              "      <th>Agent</th>\n",
              "      <th>AgentID</th>\n",
              "    </tr>\n",
              "  </thead>\n",
              "  <tbody>\n",
              "    <tr>\n",
              "      <th>0</th>\n",
              "      <td>19143.0</td>\n",
              "      <td>3755.455002</td>\n",
              "      <td>MM</td>\n",
              "      <td>0</td>\n",
              "    </tr>\n",
              "    <tr>\n",
              "      <th>1</th>\n",
              "      <td>16639.0</td>\n",
              "      <td>3755.442871</td>\n",
              "      <td>MM</td>\n",
              "      <td>1</td>\n",
              "    </tr>\n",
              "    <tr>\n",
              "      <th>2</th>\n",
              "      <td>19642.0</td>\n",
              "      <td>3755.164665</td>\n",
              "      <td>MM</td>\n",
              "      <td>2</td>\n",
              "    </tr>\n",
              "    <tr>\n",
              "      <th>3</th>\n",
              "      <td>924.0</td>\n",
              "      <td>3747.821002</td>\n",
              "      <td></td>\n",
              "      <td>-1</td>\n",
              "    </tr>\n",
              "    <tr>\n",
              "      <th>4</th>\n",
              "      <td>956.0</td>\n",
              "      <td>3735.331042</td>\n",
              "      <td></td>\n",
              "      <td>-1</td>\n",
              "    </tr>\n",
              "    <tr>\n",
              "      <th>...</th>\n",
              "      <td>...</td>\n",
              "      <td>...</td>\n",
              "      <td>...</td>\n",
              "      <td>...</td>\n",
              "    </tr>\n",
              "    <tr>\n",
              "      <th>261</th>\n",
              "      <td>1081.0</td>\n",
              "      <td>52.156526</td>\n",
              "      <td></td>\n",
              "      <td>-1</td>\n",
              "    </tr>\n",
              "    <tr>\n",
              "      <th>262</th>\n",
              "      <td>962.0</td>\n",
              "      <td>50.921641</td>\n",
              "      <td></td>\n",
              "      <td>-1</td>\n",
              "    </tr>\n",
              "    <tr>\n",
              "      <th>263</th>\n",
              "      <td>928.0</td>\n",
              "      <td>38.288277</td>\n",
              "      <td></td>\n",
              "      <td>-1</td>\n",
              "    </tr>\n",
              "    <tr>\n",
              "      <th>264</th>\n",
              "      <td>980.0</td>\n",
              "      <td>22.114794</td>\n",
              "      <td></td>\n",
              "      <td>-1</td>\n",
              "    </tr>\n",
              "    <tr>\n",
              "      <th>265</th>\n",
              "      <td>1088.0</td>\n",
              "      <td>17.049535</td>\n",
              "      <td></td>\n",
              "      <td>-1</td>\n",
              "    </tr>\n",
              "  </tbody>\n",
              "</table>\n",
              "<p>266 rows × 4 columns</p>\n",
              "</div>\n",
              "      <button class=\"colab-df-convert\" onclick=\"convertToInteractive('df-dddb3e5b-d16f-44c7-b380-fc0264dab8a7')\"\n",
              "              title=\"Convert this dataframe to an interactive table.\"\n",
              "              style=\"display:none;\">\n",
              "        \n",
              "  <svg xmlns=\"http://www.w3.org/2000/svg\" height=\"24px\"viewBox=\"0 0 24 24\"\n",
              "       width=\"24px\">\n",
              "    <path d=\"M0 0h24v24H0V0z\" fill=\"none\"/>\n",
              "    <path d=\"M18.56 5.44l.94 2.06.94-2.06 2.06-.94-2.06-.94-.94-2.06-.94 2.06-2.06.94zm-11 1L8.5 8.5l.94-2.06 2.06-.94-2.06-.94L8.5 2.5l-.94 2.06-2.06.94zm10 10l.94 2.06.94-2.06 2.06-.94-2.06-.94-.94-2.06-.94 2.06-2.06.94z\"/><path d=\"M17.41 7.96l-1.37-1.37c-.4-.4-.92-.59-1.43-.59-.52 0-1.04.2-1.43.59L10.3 9.45l-7.72 7.72c-.78.78-.78 2.05 0 2.83L4 21.41c.39.39.9.59 1.41.59.51 0 1.02-.2 1.41-.59l7.78-7.78 2.81-2.81c.8-.78.8-2.07 0-2.86zM5.41 20L4 18.59l7.72-7.72 1.47 1.35L5.41 20z\"/>\n",
              "  </svg>\n",
              "      </button>\n",
              "      \n",
              "  <style>\n",
              "    .colab-df-container {\n",
              "      display:flex;\n",
              "      flex-wrap:wrap;\n",
              "      gap: 12px;\n",
              "    }\n",
              "\n",
              "    .colab-df-convert {\n",
              "      background-color: #E8F0FE;\n",
              "      border: none;\n",
              "      border-radius: 50%;\n",
              "      cursor: pointer;\n",
              "      display: none;\n",
              "      fill: #1967D2;\n",
              "      height: 32px;\n",
              "      padding: 0 0 0 0;\n",
              "      width: 32px;\n",
              "    }\n",
              "\n",
              "    .colab-df-convert:hover {\n",
              "      background-color: #E2EBFA;\n",
              "      box-shadow: 0px 1px 2px rgba(60, 64, 67, 0.3), 0px 1px 3px 1px rgba(60, 64, 67, 0.15);\n",
              "      fill: #174EA6;\n",
              "    }\n",
              "\n",
              "    [theme=dark] .colab-df-convert {\n",
              "      background-color: #3B4455;\n",
              "      fill: #D2E3FC;\n",
              "    }\n",
              "\n",
              "    [theme=dark] .colab-df-convert:hover {\n",
              "      background-color: #434B5C;\n",
              "      box-shadow: 0px 1px 3px 1px rgba(0, 0, 0, 0.15);\n",
              "      filter: drop-shadow(0px 1px 2px rgba(0, 0, 0, 0.3));\n",
              "      fill: #FFFFFF;\n",
              "    }\n",
              "  </style>\n",
              "\n",
              "      <script>\n",
              "        const buttonEl =\n",
              "          document.querySelector('#df-dddb3e5b-d16f-44c7-b380-fc0264dab8a7 button.colab-df-convert');\n",
              "        buttonEl.style.display =\n",
              "          google.colab.kernel.accessAllowed ? 'block' : 'none';\n",
              "\n",
              "        async function convertToInteractive(key) {\n",
              "          const element = document.querySelector('#df-dddb3e5b-d16f-44c7-b380-fc0264dab8a7');\n",
              "          const dataTable =\n",
              "            await google.colab.kernel.invokeFunction('convertToInteractive',\n",
              "                                                     [key], {});\n",
              "          if (!dataTable) return;\n",
              "\n",
              "          const docLinkHtml = 'Like what you see? Visit the ' +\n",
              "            '<a target=\"_blank\" href=https://colab.research.google.com/notebooks/data_table.ipynb>data table notebook</a>'\n",
              "            + ' to learn more about interactive tables.';\n",
              "          element.innerHTML = '';\n",
              "          dataTable['output_type'] = 'display_data';\n",
              "          await google.colab.output.renderOutput(dataTable, element);\n",
              "          const docLink = document.createElement('div');\n",
              "          docLink.innerHTML = docLinkHtml;\n",
              "          element.appendChild(docLink);\n",
              "        }\n",
              "      </script>\n",
              "    </div>\n",
              "  </div>\n",
              "  "
            ]
          },
          "metadata": {}
        }
      ]
    },
    {
      "cell_type": "code",
      "source": [
        "simulator1.priceVolatilityatEachIteration"
      ],
      "metadata": {
        "colab": {
          "base_uri": "https://localhost:8080/"
        },
        "id": "ynOrLgp7KOnE",
        "outputId": "509ff4d2-19c7-4796-e9ee-547052b480a5"
      },
      "execution_count": null,
      "outputs": [
        {
          "output_type": "execute_result",
          "data": {
            "text/plain": [
              "[0.7457467052515238,\n",
              " 0.5506879326386797,\n",
              " 0.5575607846825464,\n",
              " 0.5321786075235322,\n",
              " 0.5356534689477882,\n",
              " 0.5218011799784216,\n",
              " 0.5339743284220775,\n",
              " 0.522282999977662,\n",
              " 0.5243097347043265,\n",
              " 0.5274945979911414,\n",
              " 0.5280840333834723,\n",
              " 0.5310883406404084,\n",
              " 0.5224771097259576,\n",
              " 0.5204431470007016,\n",
              " 0.5217732237968626,\n",
              " 0.521873686796246,\n",
              " 0.5210248937925772,\n",
              " 0.5202944691982025,\n",
              " 0.5249286479906956,\n",
              " 0.5204823083405061]"
            ]
          },
          "metadata": {},
          "execution_count": 18
        }
      ]
    },
    {
      "cell_type": "code",
      "source": [
        "simulator1.pricesAtEachIteration"
      ],
      "metadata": {
        "colab": {
          "base_uri": "https://localhost:8080/"
        },
        "id": "tEgWrgtyKI-8",
        "outputId": "7c368574-61d7-4868-e34c-f16458813efe"
      },
      "execution_count": null,
      "outputs": [
        {
          "output_type": "execute_result",
          "data": {
            "text/plain": [
              "[3764.7611107820358,\n",
              " 3759.122102543286,\n",
              " 3759.4315358861545,\n",
              " 3758.0307958738326,\n",
              " 3758.2926266638283,\n",
              " 3757.0310442574005,\n",
              " 3758.419453671075,\n",
              " 3757.458572337151,\n",
              " 3757.12443072432,\n",
              " 3757.7517754488404,\n",
              " 3757.556643675416,\n",
              " 3757.9827065521636,\n",
              " 3757.3608512536657,\n",
              " 3756.845333664922,\n",
              " 3757.39579821796,\n",
              " 3757.4084434061,\n",
              " 3756.7348107793778,\n",
              " 3757.1896533957406,\n",
              " 3757.421963788808,\n",
              " 3756.7183918675414]"
            ]
          },
          "metadata": {},
          "execution_count": 19
        }
      ]
    },
    {
      "cell_type": "code",
      "source": [
        "simulator1.plot_price()"
      ],
      "metadata": {
        "colab": {
          "base_uri": "https://localhost:8080/",
          "height": 282
        },
        "id": "rVzNgqXoOx7v",
        "outputId": "1919b8c1-10d2-4928-de51-f1e8dacfd95b"
      },
      "execution_count": null,
      "outputs": [
        {
          "output_type": "stream",
          "name": "stderr",
          "text": [
            "No handles with labels found to put in legend.\n"
          ]
        },
        {
          "output_type": "display_data",
          "data": {
            "text/plain": [
              "<Figure size 432x288 with 1 Axes>"
            ],
            "image/png": "[encoded data removed]"
          },
          "metadata": {
            "needs_background": "light"
          }
        }
      ]
    },
    {
      "cell_type": "code",
      "source": [
        "simulator1.plot_volatility()"
      ],
      "metadata": {
        "colab": {
          "base_uri": "https://localhost:8080/",
          "height": 282
        },
        "id": "rz1WOxhPO7KV",
        "outputId": "389bad8f-7b3c-497f-9578-485df913ac3a"
      },
      "execution_count": null,
      "outputs": [
        {
          "output_type": "stream",
          "name": "stderr",
          "text": [
            "No handles with labels found to put in legend.\n"
          ]
        },
        {
          "output_type": "display_data",
          "data": {
            "text/plain": [
              "<Figure size 432x288 with 1 Axes>"
            ],
            "image/png": "[encoded data removed]"
          },
          "metadata": {
            "needs_background": "light"
          }
        }
      ]
    },
    {
      "cell_type": "code",
      "source": [
        "simulator1.plot_volume()"
      ],
      "metadata": {
        "colab": {
          "base_uri": "https://localhost:8080/",
          "height": 282
        },
        "id": "dmnbOCq2PDcc",
        "outputId": "e8849081-c6c4-42c6-c721-9688660509de"
      },
      "execution_count": null,
      "outputs": [
        {
          "output_type": "stream",
          "name": "stderr",
          "text": [
            "No handles with labels found to put in legend.\n"
          ]
        },
        {
          "output_type": "display_data",
          "data": {
            "text/plain": [
              "<Figure size 432x288 with 1 Axes>"
            ],
            "image/png": "[encoded data removed]"
          },
          "metadata": {
            "needs_background": "light"
          }
        }
      ]
    },
    {
      "cell_type": "code",
      "source": [
        "simulator1.plot_bid_ask()"
      ],
      "metadata": {
        "colab": {
          "base_uri": "https://localhost:8080/",
          "height": 282
        },
        "id": "p3f47gbXQf8j",
        "outputId": "9a0c4395-bd57-4ef7-fd1f-cade98f4ce6e"
      },
      "execution_count": null,
      "outputs": [
        {
          "output_type": "stream",
          "name": "stderr",
          "text": [
            "No handles with labels found to put in legend.\n"
          ]
        },
        {
          "output_type": "display_data",
          "data": {
            "text/plain": [
              "<Figure size 432x288 with 1 Axes>"
            ],
            "image/png": "[encoded data removed]"
          },
          "metadata": {
            "needs_background": "light"
          }
        }
      ]
    }
  ],
  "metadata": {
    "colab": {
      "collapsed_sections": [],
      "name": "Kopie von sample coursework.ipynb",
      "provenance": [],
      "include_colab_link": true
    },
    "kernelspec": {
      "display_name": "Python 3",
      "name": "python3"
    },
    "language_info": {
      "name": "python"
    }
  },
  "nbformat": 4,
  "nbformat_minor": 0
}